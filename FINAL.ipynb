{
  "cells": [
    {
      "cell_type": "markdown",
      "metadata": {
        "id": "view-in-github",
        "colab_type": "text"
      },
      "source": [
        "<a href=\"https://colab.research.google.com/github/kolomichyk/BKIT/blob/develop/FINAL.ipynb\" target=\"_parent\"><img src=\"https://colab.research.google.com/assets/colab-badge.svg\" alt=\"Open In Colab\"/></a>"
      ]
    },
    {
      "cell_type": "code",
      "execution_count": 1,
      "id": "01b2cc98",
      "metadata": {
        "cellId": "ncftauuqeiizdkx4t8vcl",
        "id": "01b2cc98"
      },
      "outputs": [],
      "source": [
        "import pandas as pd\n",
        "from datetime import datetime"
      ]
    },
    {
      "cell_type": "code",
      "execution_count": null,
      "id": "b2b9b0a2",
      "metadata": {
        "cellId": "z3l5anx6yirid0xozrfskg",
        "id": "b2b9b0a2"
      },
      "outputs": [],
      "source": [
        "data_train = pd.read_csv('train.csv')"
      ]
    },
    {
      "cell_type": "code",
      "execution_count": null,
      "id": "4fcab2ea",
      "metadata": {
        "cellId": "uztb5apjhu8z96n4chxufq",
        "id": "4fcab2ea"
      },
      "outputs": [],
      "source": [
        "data_train.head(20)"
      ]
    },
    {
      "cell_type": "code",
      "execution_count": null,
      "id": "af8b54c7",
      "metadata": {
        "cellId": "5cj4jx9ctkd92n7cdh92x8",
        "id": "af8b54c7",
        "outputId": "20c5c353-a74c-4706-832f-b49022ae26dc"
      },
      "outputs": [
        {
          "data": {
            "text/html": [
              "<div>\n",
              "<style scoped>\n",
              "    .dataframe tbody tr th:only-of-type {\n",
              "        vertical-align: middle;\n",
              "    }\n",
              "\n",
              "    .dataframe tbody tr th {\n",
              "        vertical-align: top;\n",
              "    }\n",
              "\n",
              "    .dataframe thead th {\n",
              "        text-align: right;\n",
              "    }\n",
              "</style>\n",
              "<table border=\"1\" class=\"dataframe\">\n",
              "  <thead>\n",
              "    <tr style=\"text-align: right;\">\n",
              "      <th></th>\n",
              "      <th>wagnum</th>\n",
              "      <th>prev_fr_id</th>\n",
              "      <th>prev_is_load</th>\n",
              "      <th>prev_snd_org_id</th>\n",
              "      <th>prev_rsv_org_id</th>\n",
              "      <th>prev_distance</th>\n",
              "      <th>snd_st_id</th>\n",
              "      <th>rsv_st_id</th>\n",
              "      <th>fr_id</th>\n",
              "      <th>is_load</th>\n",
              "      <th>rod</th>\n",
              "      <th>common_ch</th>\n",
              "      <th>snd_org_id</th>\n",
              "      <th>rsv_org_id</th>\n",
              "      <th>distance</th>\n",
              "    </tr>\n",
              "  </thead>\n",
              "  <tbody>\n",
              "    <tr>\n",
              "      <th>count</th>\n",
              "      <td>1.192243e+06</td>\n",
              "      <td>1.192243e+06</td>\n",
              "      <td>1.192243e+06</td>\n",
              "      <td>1.192243e+06</td>\n",
              "      <td>1.192243e+06</td>\n",
              "      <td>1.191209e+06</td>\n",
              "      <td>1.192243e+06</td>\n",
              "      <td>1.192243e+06</td>\n",
              "      <td>1.192243e+06</td>\n",
              "      <td>1.192243e+06</td>\n",
              "      <td>1192243.0</td>\n",
              "      <td>1.192243e+06</td>\n",
              "      <td>1.192243e+06</td>\n",
              "      <td>1.192243e+06</td>\n",
              "      <td>1.190917e+06</td>\n",
              "    </tr>\n",
              "    <tr>\n",
              "      <th>mean</th>\n",
              "      <td>3.817986e+06</td>\n",
              "      <td>3.810650e+06</td>\n",
              "      <td>5.375909e-01</td>\n",
              "      <td>3.734411e+06</td>\n",
              "      <td>4.983752e+06</td>\n",
              "      <td>1.559562e+03</td>\n",
              "      <td>5.061955e+06</td>\n",
              "      <td>4.974726e+06</td>\n",
              "      <td>3.948631e+06</td>\n",
              "      <td>5.826908e-01</td>\n",
              "      <td>8.0</td>\n",
              "      <td>2.904683e+02</td>\n",
              "      <td>3.905827e+06</td>\n",
              "      <td>4.902682e+06</td>\n",
              "      <td>1.544651e+03</td>\n",
              "    </tr>\n",
              "    <tr>\n",
              "      <th>std</th>\n",
              "      <td>2.202737e+06</td>\n",
              "      <td>3.123850e+06</td>\n",
              "      <td>4.985851e-01</td>\n",
              "      <td>2.185192e+06</td>\n",
              "      <td>2.615266e+06</td>\n",
              "      <td>1.763346e+03</td>\n",
              "      <td>2.636698e+06</td>\n",
              "      <td>2.587721e+06</td>\n",
              "      <td>3.244060e+06</td>\n",
              "      <td>4.931150e-01</td>\n",
              "      <td>0.0</td>\n",
              "      <td>4.388080e+02</td>\n",
              "      <td>2.327654e+06</td>\n",
              "      <td>2.481025e+06</td>\n",
              "      <td>1.738946e+03</td>\n",
              "    </tr>\n",
              "    <tr>\n",
              "      <th>min</th>\n",
              "      <td>1.100000e+01</td>\n",
              "      <td>8.384500e+04</td>\n",
              "      <td>0.000000e+00</td>\n",
              "      <td>1.224700e+04</td>\n",
              "      <td>4.190000e+02</td>\n",
              "      <td>0.000000e+00</td>\n",
              "      <td>3.693000e+03</td>\n",
              "      <td>3.693000e+03</td>\n",
              "      <td>6.336600e+04</td>\n",
              "      <td>0.000000e+00</td>\n",
              "      <td>8.0</td>\n",
              "      <td>9.000000e+00</td>\n",
              "      <td>7.639000e+03</td>\n",
              "      <td>4.190000e+02</td>\n",
              "      <td>0.000000e+00</td>\n",
              "    </tr>\n",
              "    <tr>\n",
              "      <th>25%</th>\n",
              "      <td>1.911908e+06</td>\n",
              "      <td>1.399685e+06</td>\n",
              "      <td>0.000000e+00</td>\n",
              "      <td>2.327070e+06</td>\n",
              "      <td>3.434232e+06</td>\n",
              "      <td>2.760000e+02</td>\n",
              "      <td>2.492408e+06</td>\n",
              "      <td>2.492408e+06</td>\n",
              "      <td>1.399685e+06</td>\n",
              "      <td>0.000000e+00</td>\n",
              "      <td>8.0</td>\n",
              "      <td>9.000000e+00</td>\n",
              "      <td>2.327070e+06</td>\n",
              "      <td>4.097118e+06</td>\n",
              "      <td>2.760000e+02</td>\n",
              "    </tr>\n",
              "    <tr>\n",
              "      <th>50%</th>\n",
              "      <td>3.823218e+06</td>\n",
              "      <td>1.661408e+06</td>\n",
              "      <td>1.000000e+00</td>\n",
              "      <td>2.327070e+06</td>\n",
              "      <td>4.597939e+06</td>\n",
              "      <td>1.052000e+03</td>\n",
              "      <td>5.326970e+06</td>\n",
              "      <td>5.440640e+06</td>\n",
              "      <td>1.959160e+06</td>\n",
              "      <td>1.000000e+00</td>\n",
              "      <td>8.0</td>\n",
              "      <td>9.000000e+00</td>\n",
              "      <td>2.327070e+06</td>\n",
              "      <td>4.272291e+06</td>\n",
              "      <td>1.005000e+03</td>\n",
              "    </tr>\n",
              "    <tr>\n",
              "      <th>75%</th>\n",
              "      <td>5.730952e+06</td>\n",
              "      <td>7.399715e+06</td>\n",
              "      <td>1.000000e+00</td>\n",
              "      <td>4.597939e+06</td>\n",
              "      <td>7.093343e+06</td>\n",
              "      <td>1.886000e+03</td>\n",
              "      <td>7.153615e+06</td>\n",
              "      <td>6.889687e+06</td>\n",
              "      <td>7.399715e+06</td>\n",
              "      <td>1.000000e+00</td>\n",
              "      <td>8.0</td>\n",
              "      <td>9.750000e+02</td>\n",
              "      <td>4.995013e+06</td>\n",
              "      <td>6.683733e+06</td>\n",
              "      <td>1.879000e+03</td>\n",
              "    </tr>\n",
              "    <tr>\n",
              "      <th>max</th>\n",
              "      <td>7.637731e+06</td>\n",
              "      <td>9.990826e+06</td>\n",
              "      <td>1.000000e+00</td>\n",
              "      <td>9.979008e+06</td>\n",
              "      <td>9.997469e+06</td>\n",
              "      <td>1.462700e+04</td>\n",
              "      <td>9.988340e+06</td>\n",
              "      <td>9.990165e+06</td>\n",
              "      <td>9.990826e+06</td>\n",
              "      <td>1.000000e+00</td>\n",
              "      <td>8.0</td>\n",
              "      <td>9.750000e+02</td>\n",
              "      <td>9.998667e+06</td>\n",
              "      <td>9.997469e+06</td>\n",
              "      <td>1.462700e+04</td>\n",
              "    </tr>\n",
              "  </tbody>\n",
              "</table>\n",
              "</div>"
            ],
            "text/plain": [
              "             wagnum    prev_fr_id  ...    rsv_org_id      distance\n",
              "count  1.192243e+06  1.192243e+06  ...  1.192243e+06  1.190917e+06\n",
              "mean   3.817986e+06  3.810650e+06  ...  4.902682e+06  1.544651e+03\n",
              "std    2.202737e+06  3.123850e+06  ...  2.481025e+06  1.738946e+03\n",
              "min    1.100000e+01  8.384500e+04  ...  4.190000e+02  0.000000e+00\n",
              "25%    1.911908e+06  1.399685e+06  ...  4.097118e+06  2.760000e+02\n",
              "50%    3.823218e+06  1.661408e+06  ...  4.272291e+06  1.005000e+03\n",
              "75%    5.730952e+06  7.399715e+06  ...  6.683733e+06  1.879000e+03\n",
              "max    7.637731e+06  9.990826e+06  ...  9.997469e+06  1.462700e+04\n",
              "\n",
              "[8 rows x 15 columns]"
            ]
          },
          "execution_count": 6,
          "metadata": {},
          "output_type": "execute_result"
        }
      ],
      "source": [
        "data_train.describe()"
      ]
    },
    {
      "cell_type": "code",
      "execution_count": null,
      "id": "fe1ce661",
      "metadata": {
        "cellId": "q6iq76zs9mttse0czqcp",
        "id": "fe1ce661",
        "outputId": "1e673bd3-46bd-45a2-f3e0-b4888add8ebf"
      },
      "outputs": [
        {
          "data": {
            "text/plain": [
              "(1192243, 22)"
            ]
          },
          "execution_count": 15,
          "metadata": {},
          "output_type": "execute_result"
        }
      ],
      "source": [
        "data_train.shape"
      ]
    },
    {
      "cell_type": "code",
      "execution_count": null,
      "id": "0cc07acf",
      "metadata": {
        "cellId": "nvalq9hxvvf50vqbhrpdyq",
        "id": "0cc07acf",
        "outputId": "eb846d0c-bba1-462b-9e31-9bdb2090715c"
      },
      "outputs": [
        {
          "data": {
            "text/plain": [
              "wagnum                  0\n",
              "prev_fr_id              0\n",
              "prev_is_load            0\n",
              "prev_date_depart        4\n",
              "prev_date_arrival     197\n",
              "prev_snd_org_id         0\n",
              "prev_rsv_org_id         0\n",
              "prev_distance        1034\n",
              "snd_st_id               0\n",
              "rsv_st_id               0\n",
              "fr_id                   0\n",
              "is_load                 0\n",
              "date_depart             0\n",
              "rod                     0\n",
              "common_ch               0\n",
              "vidsobst                0\n",
              "snd_org_id              0\n",
              "rsv_org_id              0\n",
              "distance             1326\n",
              "prev_freight            1\n",
              "prev_fr_group           1\n",
              "freight                 4\n",
              "fr_group                4\n",
              "dtype: int64"
            ]
          },
          "execution_count": 8,
          "metadata": {},
          "output_type": "execute_result"
        }
      ],
      "source": [
        "data_train.isna().sum()"
      ]
    },
    {
      "cell_type": "code",
      "execution_count": null,
      "id": "7991eae8",
      "metadata": {
        "cellId": "9e8g8ejar775agc7a9ivoh",
        "id": "7991eae8"
      },
      "outputs": [],
      "source": [
        "data_train = data_train.drop(columns=['rod'])"
      ]
    },
    {
      "cell_type": "code",
      "execution_count": null,
      "id": "1c4e32d1",
      "metadata": {
        "cellId": "tbp6iw4lzatdtotzixs6",
        "id": "1c4e32d1"
      },
      "outputs": [],
      "source": [
        "data_train.head()"
      ]
    },
    {
      "cell_type": "code",
      "execution_count": null,
      "id": "eb751278",
      "metadata": {
        "cellId": "me0doy3wglcgp8sp7v7wzg",
        "id": "eb751278"
      },
      "outputs": [],
      "source": [
        "def GetHours(date):\n",
        "    date_object = datetime.strptime(date[:10], '%Y-%m-%d')\n",
        "    data_seconds_arr = list(date[11:].split(':'))\n",
        "    data_low = int(data_seconds_arr[0]) + int(data_seconds_arr[1])/60 + int(data_seconds_arr[2])/3600\n",
        "    data_high = int(date_object.timestamp())\n",
        "    return data_high//3600 + data_low"
      ]
    },
    {
      "cell_type": "code",
      "execution_count": null,
      "id": "8914d1f7",
      "metadata": {
        "cellId": "qlnmz9yw3sp7iww9gotm",
        "id": "8914d1f7"
      },
      "outputs": [],
      "source": [
        "def ConvertDate(data):\n",
        "    for i in range(data.shape[0]):\n",
        "        date_tmp = data['prev_date_depart'][i]\n",
        "        depart = GetHours(date_tmp)\n",
        "        date_tmp = data['prev_date_arrival'][i]\n",
        "        arrival = GetHours(date_tmp)\n",
        "        data['Travel_time'][i] = arrival - depart"
      ]
    },
    {
      "cell_type": "code",
      "execution_count": null,
      "id": "6a575ba0",
      "metadata": {
        "cellId": "z0yq18gw4gdpfwdy4hh8k",
        "id": "6a575ba0"
      },
      "outputs": [],
      "source": [
        "data_train['Travel_time'] = [0 for i in range(data_train.shape[0])]\n",
        "data_train['Mounth'] = [0 for i in range(data_train.shape[0])]\n",
        "data_train['dotw'] = [0 for i in range(data_train.shape[0])]"
      ]
    },
    {
      "cell_type": "code",
      "execution_count": null,
      "id": "4cf25d27",
      "metadata": {
        "cellId": "x6po6okkni7n2x9es3h8a",
        "id": "4cf25d27",
        "outputId": "e4b66900-677b-46a0-8ea1-e81fb82cf29a"
      },
      "outputs": [
        {
          "data": {
            "text/html": [
              "<div>\n",
              "<style scoped>\n",
              "    .dataframe tbody tr th:only-of-type {\n",
              "        vertical-align: middle;\n",
              "    }\n",
              "\n",
              "    .dataframe tbody tr th {\n",
              "        vertical-align: top;\n",
              "    }\n",
              "\n",
              "    .dataframe thead th {\n",
              "        text-align: right;\n",
              "    }\n",
              "</style>\n",
              "<table border=\"1\" class=\"dataframe\">\n",
              "  <thead>\n",
              "    <tr style=\"text-align: right;\">\n",
              "      <th></th>\n",
              "      <th>wagnum</th>\n",
              "      <th>prev_fr_id</th>\n",
              "      <th>prev_is_load</th>\n",
              "      <th>prev_date_depart</th>\n",
              "      <th>prev_date_arrival</th>\n",
              "      <th>prev_snd_org_id</th>\n",
              "      <th>prev_rsv_org_id</th>\n",
              "      <th>prev_distance</th>\n",
              "      <th>snd_st_id</th>\n",
              "      <th>rsv_st_id</th>\n",
              "      <th>fr_id</th>\n",
              "      <th>is_load</th>\n",
              "      <th>date_depart</th>\n",
              "      <th>common_ch</th>\n",
              "      <th>vidsobst</th>\n",
              "      <th>snd_org_id</th>\n",
              "      <th>rsv_org_id</th>\n",
              "      <th>distance</th>\n",
              "      <th>prev_freight</th>\n",
              "      <th>prev_fr_group</th>\n",
              "      <th>freight</th>\n",
              "      <th>fr_group</th>\n",
              "    </tr>\n",
              "  </thead>\n",
              "  <tbody>\n",
              "    <tr>\n",
              "      <th>0</th>\n",
              "      <td>11</td>\n",
              "      <td>1399685</td>\n",
              "      <td>0.0</td>\n",
              "      <td>2022-03-30 22:55:00</td>\n",
              "      <td>2022-04-05 11:07:00</td>\n",
              "      <td>4266126</td>\n",
              "      <td>2279057</td>\n",
              "      <td>4493.0</td>\n",
              "      <td>3609555</td>\n",
              "      <td>4985724</td>\n",
              "      <td>292757</td>\n",
              "      <td>1</td>\n",
              "      <td>2022-04-07 08:45:00</td>\n",
              "      <td>9.0</td>\n",
              "      <td>Собственные</td>\n",
              "      <td>2279057</td>\n",
              "      <td>9321847</td>\n",
              "      <td>269.0</td>\n",
              "      <td>ГАЗЫ УГЛЕВОД ПР</td>\n",
              "      <td>Нефтяные грузы</td>\n",
              "      <td>БАНКЕТКИ</td>\n",
              "      <td>Остальные грузы</td>\n",
              "    </tr>\n",
              "    <tr>\n",
              "      <th>1</th>\n",
              "      <td>11</td>\n",
              "      <td>292757</td>\n",
              "      <td>1.0</td>\n",
              "      <td>2022-04-07 08:45:00</td>\n",
              "      <td>2022-04-07 18:22:00</td>\n",
              "      <td>2279057</td>\n",
              "      <td>9321847</td>\n",
              "      <td>269.0</td>\n",
              "      <td>4985724</td>\n",
              "      <td>2492408</td>\n",
              "      <td>8674472</td>\n",
              "      <td>1</td>\n",
              "      <td>2022-04-11 07:30:00</td>\n",
              "      <td>9.0</td>\n",
              "      <td>Собственные</td>\n",
              "      <td>9321847</td>\n",
              "      <td>4272291</td>\n",
              "      <td>3584.0</td>\n",
              "      <td>БАНКЕТКИ</td>\n",
              "      <td>Остальные грузы</td>\n",
              "      <td>ГАРНИТУРЫ КУХОН</td>\n",
              "      <td>Остальные грузы</td>\n",
              "    </tr>\n",
              "    <tr>\n",
              "      <th>2</th>\n",
              "      <td>11</td>\n",
              "      <td>8674472</td>\n",
              "      <td>1.0</td>\n",
              "      <td>2022-04-11 07:30:00</td>\n",
              "      <td>2022-04-20 15:15:00</td>\n",
              "      <td>9321847</td>\n",
              "      <td>4272291</td>\n",
              "      <td>3584.0</td>\n",
              "      <td>2492408</td>\n",
              "      <td>4288665</td>\n",
              "      <td>8210522</td>\n",
              "      <td>1</td>\n",
              "      <td>2022-04-23 16:20:00</td>\n",
              "      <td>9.0</td>\n",
              "      <td>Собственные</td>\n",
              "      <td>4272291</td>\n",
              "      <td>2555202</td>\n",
              "      <td>417.0</td>\n",
              "      <td>ГАРНИТУРЫ КУХОН</td>\n",
              "      <td>Остальные грузы</td>\n",
              "      <td>КАРНИЗЫ ДЕРЕВ</td>\n",
              "      <td>Лесные грузы</td>\n",
              "    </tr>\n",
              "    <tr>\n",
              "      <th>3</th>\n",
              "      <td>11</td>\n",
              "      <td>8210522</td>\n",
              "      <td>1.0</td>\n",
              "      <td>2022-04-23 16:20:00</td>\n",
              "      <td>2022-04-28 03:43:00</td>\n",
              "      <td>4272291</td>\n",
              "      <td>2555202</td>\n",
              "      <td>417.0</td>\n",
              "      <td>4288665</td>\n",
              "      <td>2440270</td>\n",
              "      <td>1399685</td>\n",
              "      <td>0</td>\n",
              "      <td>2022-05-03 14:47:00</td>\n",
              "      <td>9.0</td>\n",
              "      <td>Собственные</td>\n",
              "      <td>2327070</td>\n",
              "      <td>2327070</td>\n",
              "      <td>248.0</td>\n",
              "      <td>КАРНИЗЫ ДЕРЕВ</td>\n",
              "      <td>Лесные грузы</td>\n",
              "      <td>ГАЗЫ УГЛЕВОД ПР</td>\n",
              "      <td>Нефтяные грузы</td>\n",
              "    </tr>\n",
              "    <tr>\n",
              "      <th>4</th>\n",
              "      <td>11</td>\n",
              "      <td>1399685</td>\n",
              "      <td>0.0</td>\n",
              "      <td>2022-05-03 14:47:00</td>\n",
              "      <td>2022-05-04 05:11:00</td>\n",
              "      <td>2327070</td>\n",
              "      <td>2327070</td>\n",
              "      <td>248.0</td>\n",
              "      <td>2440270</td>\n",
              "      <td>2440270</td>\n",
              "      <td>9276341</td>\n",
              "      <td>0</td>\n",
              "      <td>2022-05-05 23:02:22</td>\n",
              "      <td>9.0</td>\n",
              "      <td>Собственные</td>\n",
              "      <td>2327070</td>\n",
              "      <td>2487325</td>\n",
              "      <td>5.0</td>\n",
              "      <td>ГАЗЫ УГЛЕВОД ПР</td>\n",
              "      <td>Нефтяные грузы</td>\n",
              "      <td>ВАТА МЕД</td>\n",
              "      <td>Остальные грузы</td>\n",
              "    </tr>\n",
              "  </tbody>\n",
              "</table>\n",
              "</div>"
            ],
            "text/plain": [
              "   wagnum  prev_fr_id  ...          freight         fr_group\n",
              "0      11     1399685  ...         БАНКЕТКИ  Остальные грузы\n",
              "1      11      292757  ...  ГАРНИТУРЫ КУХОН  Остальные грузы\n",
              "2      11     8674472  ...    КАРНИЗЫ ДЕРЕВ     Лесные грузы\n",
              "3      11     8210522  ...  ГАЗЫ УГЛЕВОД ПР   Нефтяные грузы\n",
              "4      11     1399685  ...         ВАТА МЕД  Остальные грузы\n",
              "\n",
              "[5 rows x 22 columns]"
            ]
          },
          "execution_count": 92,
          "metadata": {},
          "output_type": "execute_result"
        }
      ],
      "source": [
        "data_train.head()"
      ]
    },
    {
      "cell_type": "code",
      "execution_count": null,
      "id": "96682b70",
      "metadata": {
        "cellId": "s9rxzjfyxcp1jarareh7ji",
        "id": "96682b70",
        "outputId": "91aef14b-c60a-41f7-c15d-a53698051bd1"
      },
      "outputs": [
        {
          "name": "stderr",
          "output_type": "stream",
          "text": [
            "<ipython-input-6-2cbfe844ec7e>:7: SettingWithCopyWarning: \n",
            "A value is trying to be set on a copy of a slice from a DataFrame\n",
            "\n",
            "See the caveats in the documentation: https://pandas.pydata.org/pandas-docs/stable/user_guide/indexing.html#returning-a-view-versus-a-copy\n",
            "  data['Travel_time'][i] = arrival - depart\n"
          ]
        },
        {
          "ename": "TypeError",
          "evalue": "'float' object is not subscriptable",
          "output_type": "error",
          "traceback": [
            "\u001b[0;31m---------------------------------------------------------------------------\u001b[0m",
            "\u001b[0;31mTypeError\u001b[0m                                 Traceback (most recent call last)",
            "\u001b[0;32m<ipython-input-11-a98ee6cb8917>\u001b[0m in \u001b[0;36m<module>\u001b[0;34m\u001b[0m\n\u001b[0;32m----> 1\u001b[0;31m \u001b[0mConvertDate\u001b[0m\u001b[0;34m(\u001b[0m\u001b[0mdata_train\u001b[0m\u001b[0;34m)\u001b[0m\u001b[0;34m\u001b[0m\u001b[0;34m\u001b[0m\u001b[0m\n\u001b[0m\u001b[1;32m      2\u001b[0m \u001b[0;31m#\u001b[0m\u001b[0;34m\u001b[0m\u001b[0;34m\u001b[0m\u001b[0;34m\u001b[0m\u001b[0m\n",
            "\u001b[0;32m<ipython-input-6-2cbfe844ec7e>\u001b[0m in \u001b[0;36mConvertDate\u001b[0;34m(data)\u001b[0m\n\u001b[1;32m      4\u001b[0m         \u001b[0mdepart\u001b[0m \u001b[0;34m=\u001b[0m \u001b[0mGetHours\u001b[0m\u001b[0;34m(\u001b[0m\u001b[0mdate_tmp\u001b[0m\u001b[0;34m)\u001b[0m\u001b[0;34m\u001b[0m\u001b[0;34m\u001b[0m\u001b[0m\n\u001b[1;32m      5\u001b[0m         \u001b[0mdate_tmp\u001b[0m \u001b[0;34m=\u001b[0m \u001b[0mdata\u001b[0m\u001b[0;34m[\u001b[0m\u001b[0;34m'prev_date_arrival'\u001b[0m\u001b[0;34m]\u001b[0m\u001b[0;34m[\u001b[0m\u001b[0mi\u001b[0m\u001b[0;34m]\u001b[0m\u001b[0;34m\u001b[0m\u001b[0;34m\u001b[0m\u001b[0m\n\u001b[0;32m----> 6\u001b[0;31m         \u001b[0marrival\u001b[0m \u001b[0;34m=\u001b[0m \u001b[0mGetHours\u001b[0m\u001b[0;34m(\u001b[0m\u001b[0mdate_tmp\u001b[0m\u001b[0;34m)\u001b[0m\u001b[0;34m\u001b[0m\u001b[0;34m\u001b[0m\u001b[0m\n\u001b[0m\u001b[1;32m      7\u001b[0m         \u001b[0mdata\u001b[0m\u001b[0;34m[\u001b[0m\u001b[0;34m'Travel_time'\u001b[0m\u001b[0;34m]\u001b[0m\u001b[0;34m[\u001b[0m\u001b[0mi\u001b[0m\u001b[0;34m]\u001b[0m \u001b[0;34m=\u001b[0m \u001b[0marrival\u001b[0m \u001b[0;34m-\u001b[0m \u001b[0mdepart\u001b[0m\u001b[0;34m\u001b[0m\u001b[0;34m\u001b[0m\u001b[0m\n\u001b[1;32m      8\u001b[0m \u001b[0;31m#\u001b[0m\u001b[0;34m\u001b[0m\u001b[0;34m\u001b[0m\u001b[0;34m\u001b[0m\u001b[0m\n",
            "\u001b[0;32m<ipython-input-5-9152068b85bd>\u001b[0m in \u001b[0;36mGetHours\u001b[0;34m(date)\u001b[0m\n\u001b[1;32m      1\u001b[0m \u001b[0;32mdef\u001b[0m \u001b[0mGetHours\u001b[0m\u001b[0;34m(\u001b[0m\u001b[0mdate\u001b[0m\u001b[0;34m)\u001b[0m\u001b[0;34m:\u001b[0m\u001b[0;34m\u001b[0m\u001b[0;34m\u001b[0m\u001b[0m\n\u001b[0;32m----> 2\u001b[0;31m     \u001b[0mdate_object\u001b[0m \u001b[0;34m=\u001b[0m \u001b[0mdatetime\u001b[0m\u001b[0;34m.\u001b[0m\u001b[0mstrptime\u001b[0m\u001b[0;34m(\u001b[0m\u001b[0mdate\u001b[0m\u001b[0;34m[\u001b[0m\u001b[0;34m:\u001b[0m\u001b[0;36m10\u001b[0m\u001b[0;34m]\u001b[0m\u001b[0;34m,\u001b[0m \u001b[0;34m'%Y-%m-%d'\u001b[0m\u001b[0;34m)\u001b[0m\u001b[0;34m\u001b[0m\u001b[0;34m\u001b[0m\u001b[0m\n\u001b[0m\u001b[1;32m      3\u001b[0m     \u001b[0mdata_seconds_arr\u001b[0m \u001b[0;34m=\u001b[0m \u001b[0mlist\u001b[0m\u001b[0;34m(\u001b[0m\u001b[0mdate\u001b[0m\u001b[0;34m[\u001b[0m\u001b[0;36m11\u001b[0m\u001b[0;34m:\u001b[0m\u001b[0;34m]\u001b[0m\u001b[0;34m.\u001b[0m\u001b[0msplit\u001b[0m\u001b[0;34m(\u001b[0m\u001b[0;34m':'\u001b[0m\u001b[0;34m)\u001b[0m\u001b[0;34m)\u001b[0m\u001b[0;34m\u001b[0m\u001b[0;34m\u001b[0m\u001b[0m\n\u001b[1;32m      4\u001b[0m     \u001b[0mdata_low\u001b[0m \u001b[0;34m=\u001b[0m \u001b[0mint\u001b[0m\u001b[0;34m(\u001b[0m\u001b[0mdata_seconds_arr\u001b[0m\u001b[0;34m[\u001b[0m\u001b[0;36m0\u001b[0m\u001b[0;34m]\u001b[0m\u001b[0;34m)\u001b[0m \u001b[0;34m+\u001b[0m \u001b[0mint\u001b[0m\u001b[0;34m(\u001b[0m\u001b[0mdata_seconds_arr\u001b[0m\u001b[0;34m[\u001b[0m\u001b[0;36m1\u001b[0m\u001b[0;34m]\u001b[0m\u001b[0;34m)\u001b[0m\u001b[0;34m/\u001b[0m\u001b[0;36m60\u001b[0m \u001b[0;34m+\u001b[0m \u001b[0mint\u001b[0m\u001b[0;34m(\u001b[0m\u001b[0mdata_seconds_arr\u001b[0m\u001b[0;34m[\u001b[0m\u001b[0;36m2\u001b[0m\u001b[0;34m]\u001b[0m\u001b[0;34m)\u001b[0m\u001b[0;34m/\u001b[0m\u001b[0;36m3600\u001b[0m\u001b[0;34m\u001b[0m\u001b[0;34m\u001b[0m\u001b[0m\n\u001b[1;32m      5\u001b[0m     \u001b[0mdata_high\u001b[0m \u001b[0;34m=\u001b[0m \u001b[0mint\u001b[0m\u001b[0;34m(\u001b[0m\u001b[0mdate_object\u001b[0m\u001b[0;34m.\u001b[0m\u001b[0mtimestamp\u001b[0m\u001b[0;34m(\u001b[0m\u001b[0;34m)\u001b[0m\u001b[0;34m)\u001b[0m\u001b[0;34m\u001b[0m\u001b[0;34m\u001b[0m\u001b[0m\n",
            "\u001b[0;31mTypeError\u001b[0m: 'float' object is not subscriptable"
          ]
        }
      ],
      "source": [
        "ConvertDate(data_train)"
      ]
    },
    {
      "cell_type": "code",
      "execution_count": null,
      "id": "748e738b",
      "metadata": {
        "cellId": "rrk1qhmbo5mju43sf3dli",
        "id": "748e738b"
      },
      "outputs": [],
      "source": [
        "data_train.head()"
      ]
    },
    {
      "cell_type": "code",
      "execution_count": null,
      "id": "d94c09cc",
      "metadata": {
        "cellId": "7co91jswx8ppeo8zcgt8vm",
        "id": "d94c09cc"
      },
      "outputs": [],
      "source": []
    }
  ],
  "metadata": {
    "language_info": {
      "name": "python"
    },
    "notebookId": "d585ce9f-355e-4020-ad07-02fb48762503",
    "notebookPath": "Diadal.ipynb",
    "colab": {
      "provenance": [],
      "include_colab_link": true
    },
    "kernelspec": {
      "name": "python3",
      "display_name": "Python 3"
    },
    "gpuClass": "standard"
  },
  "nbformat": 4,
  "nbformat_minor": 5
}