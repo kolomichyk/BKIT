{
  "nbformat": 4,
  "nbformat_minor": 0,
  "metadata": {
    "colab": {
      "provenance": [],
      "authorship_tag": "ABX9TyMBN9A7upyq2EmiKq6IH/X0",
      "include_colab_link": true
    },
    "kernelspec": {
      "name": "python3",
      "display_name": "Python 3"
    },
    "language_info": {
      "name": "python"
    }
  },
  "cells": [
    {
      "cell_type": "markdown",
      "metadata": {
        "id": "view-in-github",
        "colab_type": "text"
      },
      "source": [
        "<a href=\"https://colab.research.google.com/github/kolomichyk/BKIT/blob/develop/Po_sqrt_team_(1)_(1).ipynb\" target=\"_parent\"><img src=\"https://colab.research.google.com/assets/colab-badge.svg\" alt=\"Open In Colab\"/></a>"
      ]
    },
    {
      "cell_type": "code",
      "execution_count": 20,
      "metadata": {
        "id": "qX7NJ9cAH_wy"
      },
      "outputs": [],
      "source": [
        "import pandas as pd\n",
        "from seaborn import pairplot\n",
        "from sklearn.preprocessing import StandardScaler\n",
        "from sklearn.model_selection import train_test_split, cross_val_score\n",
        "from sklearn.linear_model import LinearRegression, Lasso\n",
        "from sklearn.ensemble import RandomForestRegressor\n",
        "from statistics import mean\n",
        "from sklearn.metrics import mean_absolute_error"
      ]
    },
    {
      "cell_type": "markdown",
      "source": [
        "###Предобработка данных"
      ],
      "metadata": {
        "id": "jUNJMCdsQsEt"
      }
    },
    {
      "cell_type": "code",
      "source": [
        "data_target = pd.read_csv('/content/train_target.csv')"
      ],
      "metadata": {
        "id": "vZy9d79CICk2"
      },
      "execution_count": 21,
      "outputs": []
    },
    {
      "cell_type": "code",
      "source": [
        "data = pd.read_parquet('/content/train.parquet')"
      ],
      "metadata": {
        "id": "bcUKSYsKINRQ"
      },
      "execution_count": 22,
      "outputs": []
    },
    {
      "cell_type": "code",
      "source": [
        "def addAnswer(data):\n",
        "  for j in range(0, data.shape[0], 19):\n",
        "    NotNullElement  = False\n",
        "    posNotNullElement = 0\n",
        "    for i in range(j+18, j-1, -1):\n",
        "      if (data['milleage_all'][i] and not NotNullElement):\n",
        "        NotNullElement = True\n",
        "        posNotNullElement = i\n",
        "      if (data['milleage_all'][i]):\n",
        "        data['answer'][i] = data_target['target'][j//19] +  data['milleage_all'][posNotNullElement] - data['milleage_all'][i]"
      ],
      "metadata": {
        "id": "wopeYphDjprr"
      },
      "execution_count": 23,
      "outputs": []
    },
    {
      "cell_type": "markdown",
      "source": [
        "Количество пропусков в данных"
      ],
      "metadata": {
        "id": "m1Yv6EB9Qx8s"
      }
    },
    {
      "cell_type": "code",
      "source": [
        "data['answer'] = [0 for i in range(data.shape[0])]"
      ],
      "metadata": {
        "id": "wQwStHoYhtcs"
      },
      "execution_count": 24,
      "outputs": []
    },
    {
      "cell_type": "code",
      "source": [
        "addAnswer(data)"
      ],
      "metadata": {
        "id": "hDCBJL68s5pe",
        "colab": {
          "base_uri": "https://localhost:8080/"
        },
        "outputId": "a5e3388b-c356-40e2-cac2-0bb90077dac8"
      },
      "execution_count": 25,
      "outputs": [
        {
          "output_type": "stream",
          "name": "stderr",
          "text": [
            "<ipython-input-23-a71db577cb51>:10: SettingWithCopyWarning: \n",
            "A value is trying to be set on a copy of a slice from a DataFrame\n",
            "\n",
            "See the caveats in the documentation: https://pandas.pydata.org/pandas-docs/stable/user_guide/indexing.html#returning-a-view-versus-a-copy\n",
            "  data['answer'][i] = data_target['target'][j//19] +  data['milleage_all'][posNotNullElement] - data['milleage_all'][i]\n"
          ]
        }
      ]
    },
    {
      "cell_type": "markdown",
      "source": [
        "Удаляем строки с пропусками"
      ],
      "metadata": {
        "id": "QnEC21WhQ_bG"
      }
    },
    {
      "cell_type": "code",
      "source": [
        "df = data\n",
        "df = df.dropna(axis=0)\n",
        "df = df.drop(columns=['wagnum', 'ts_id'])\n",
        "df.shape"
      ],
      "metadata": {
        "colab": {
          "base_uri": "https://localhost:8080/"
        },
        "id": "cQjV31g1It6i",
        "outputId": "6f7a5bcf-041f-461d-e3d2-aca0488f7466"
      },
      "execution_count": 12,
      "outputs": [
        {
          "output_type": "execute_result",
          "data": {
            "text/plain": [
              "(620886, 10)"
            ]
          },
          "metadata": {},
          "execution_count": 12
        }
      ]
    },
    {
      "cell_type": "code",
      "source": [
        "df.isnull().sum()"
      ],
      "metadata": {
        "colab": {
          "base_uri": "https://localhost:8080/"
        },
        "id": "e0WgjAu7vhLG",
        "outputId": "eb8d80fd-3ace-4e26-f197-c59c2edbe8d9"
      },
      "execution_count": 13,
      "outputs": [
        {
          "output_type": "execute_result",
          "data": {
            "text/plain": [
              "milleage_all       0\n",
              "axl1_l_w_flange    0\n",
              "axl1_r_w_flange    0\n",
              "axl2_l_w_flange    0\n",
              "axl2_r_w_flange    0\n",
              "axl3_l_w_flange    0\n",
              "axl3_r_w_flange    0\n",
              "axl4_l_w_flange    0\n",
              "axl4_r_w_flange    0\n",
              "answer             0\n",
              "dtype: int64"
            ]
          },
          "metadata": {},
          "execution_count": 13
        }
      ]
    },
    {
      "cell_type": "markdown",
      "source": [
        "Нормализуем данные"
      ],
      "metadata": {
        "id": "Tr9fDlHjPHdW"
      }
    },
    {
      "cell_type": "code",
      "source": [
        "scaler = StandardScaler()\n",
        "df_normalized = pd.DataFrame(scaler.fit_transform(df), columns=df.columns)"
      ],
      "metadata": {
        "id": "HyuuuhoLRF86"
      },
      "execution_count": 26,
      "outputs": []
    },
    {
      "cell_type": "markdown",
      "source": [
        "### Визуализируем данные"
      ],
      "metadata": {
        "id": "yLTJVH-9XXci"
      }
    },
    {
      "cell_type": "code",
      "source": [
        "vdata1 = df_normalized[:1000]"
      ],
      "metadata": {
        "id": "M6avCEGFXfZV"
      },
      "execution_count": null,
      "outputs": []
    },
    {
      "cell_type": "code",
      "source": [
        "pairplot(vdata1)"
      ],
      "metadata": {
        "id": "Tf0zH0BbX4DA"
      },
      "execution_count": null,
      "outputs": []
    },
    {
      "cell_type": "code",
      "source": [
        "vdata1 = vdata1.assign(avg1=vdata1[['axl1_l_w_flange', 'axl1_r_w_flange']].mean(axis=1))\n",
        "vdata1 = vdata1.assign(avg2=vdata1[['axl2_l_w_flange', 'axl2_r_w_flange']].mean(axis=1))\n",
        "vdata1 = vdata1.assign(avg3=vdata1[['axl3_l_w_flange', 'axl3_r_w_flange']].mean(axis=1))\n",
        "vdata1 = vdata1.assign(avg4=vdata1[['axl4_l_w_flange', 'axl4_r_w_flange']].mean(axis=1))"
      ],
      "metadata": {
        "id": "oWM8eftOZUHg"
      },
      "execution_count": null,
      "outputs": []
    },
    {
      "cell_type": "code",
      "source": [
        "pairplot(vdata1.drop(columns=['axl1_l_w_flange', 'axl1_r_w_flange', 'axl2_l_w_flange',\n",
        "       'axl2_r_w_flange', 'axl3_l_w_flange', 'axl3_r_w_flange',\n",
        "       'axl4_l_w_flange', 'axl4_r_w_flange']))"
      ],
      "metadata": {
        "id": "_IcaPSrUbJjr"
      },
      "execution_count": null,
      "outputs": []
    },
    {
      "cell_type": "markdown",
      "source": [
        "### Train test split"
      ],
      "metadata": {
        "id": "xxYLkZQ1wtiD"
      }
    },
    {
      "cell_type": "code",
      "source": [
        "X_train, X_test, y_train, y_test = train_test_split(df_normalized.drop(columns=['answer']), df['answer'], test_size=0.20, random_state=42)"
      ],
      "metadata": {
        "id": "w8mM3ZPywtAH"
      },
      "execution_count": 27,
      "outputs": []
    },
    {
      "cell_type": "markdown",
      "source": [
        "### Построение MVP модели"
      ],
      "metadata": {
        "id": "yBkc_PgjwlLh"
      }
    },
    {
      "cell_type": "code",
      "source": [
        "linear_model = LinearRegression().fit(X_train, y_train)"
      ],
      "metadata": {
        "id": "1HYb_K-DwkqL"
      },
      "execution_count": null,
      "outputs": []
    },
    {
      "cell_type": "code",
      "source": [
        "linear_model.score(X_test, y_test)"
      ],
      "metadata": {
        "colab": {
          "base_uri": "https://localhost:8080/"
        },
        "id": "uMUSxxTYxTgo",
        "outputId": "ce7d1af7-3ca5-4437-b20e-057b78672d6f"
      },
      "execution_count": null,
      "outputs": [
        {
          "output_type": "execute_result",
          "data": {
            "text/plain": [
              "0.30000308810642407"
            ]
          },
          "metadata": {},
          "execution_count": 130
        }
      ]
    },
    {
      "cell_type": "code",
      "source": [
        "linear_model.coef_"
      ],
      "metadata": {
        "colab": {
          "base_uri": "https://localhost:8080/"
        },
        "id": "vQMFVfi8xaKn",
        "outputId": "308bce72-3a9f-4554-93b4-c5d8c577d92d"
      },
      "execution_count": null,
      "outputs": [
        {
          "output_type": "execute_result",
          "data": {
            "text/plain": [
              "array([2503.8054303 , 3616.34705899, 3419.74625692, 4271.59964096,\n",
              "       3283.19374453, 3178.51222309, 4354.90039529, 2946.96618875,\n",
              "       3692.85747515])"
            ]
          },
          "metadata": {},
          "execution_count": 134
        }
      ]
    },
    {
      "cell_type": "code",
      "source": [
        "lassoModel = Lasso(alpha = i * 0.25, tol = 0.0925)\n",
        "for i in range(1, 9):\n",
        "    lassoModel.fit(X_train, y_train)\n",
        "    scores = cross_val_score(lassoModel, X_train, y_train, cv = 10)\n",
        "    avg_cross_val_score = mean(scores)*100"
      ],
      "metadata": {
        "id": "w4n_TCnwxkKm"
      },
      "execution_count": null,
      "outputs": []
    },
    {
      "cell_type": "code",
      "source": [
        "lassoModel.score(X_test, y_test)"
      ],
      "metadata": {
        "colab": {
          "base_uri": "https://localhost:8080/"
        },
        "id": "qfi0864Zz3CM",
        "outputId": "a1954c75-9979-4147-d519-96f54749448c"
      },
      "execution_count": null,
      "outputs": [
        {
          "output_type": "execute_result",
          "data": {
            "text/plain": [
              "0.3000033264738413"
            ]
          },
          "metadata": {},
          "execution_count": 152
        }
      ]
    },
    {
      "cell_type": "code",
      "source": [
        "lassoModel.coef_"
      ],
      "metadata": {
        "colab": {
          "base_uri": "https://localhost:8080/"
        },
        "id": "LF4mSpG2z6vI",
        "outputId": "11665f9b-2502-450e-a64c-7c8310b476bf"
      },
      "execution_count": null,
      "outputs": [
        {
          "output_type": "execute_result",
          "data": {
            "text/plain": [
              "array([2500.46019163, 3616.86815621, 3418.48137326, 4268.77719003,\n",
              "       3280.05339539, 3176.46754717, 4354.25616113, 2947.88565021,\n",
              "       3694.55949233])"
            ]
          },
          "metadata": {},
          "execution_count": 151
        }
      ]
    },
    {
      "cell_type": "code",
      "source": [
        "avg_cross_val_score"
      ],
      "metadata": {
        "colab": {
          "base_uri": "https://localhost:8080/"
        },
        "id": "raNDFYID0FTd",
        "outputId": "39ea02a3-257e-42f0-a3c5-4d8e85676bcc"
      },
      "execution_count": null,
      "outputs": [
        {
          "output_type": "execute_result",
          "data": {
            "text/plain": [
              "30.131320657597914"
            ]
          },
          "metadata": {},
          "execution_count": 150
        }
      ]
    },
    {
      "cell_type": "code",
      "source": [
        "mean_absolute_error(y_test, lassoModel.predict(X_test))"
      ],
      "metadata": {
        "colab": {
          "base_uri": "https://localhost:8080/"
        },
        "id": "kLcLSfwI1IBZ",
        "outputId": "d3463143-793e-4303-9291-05500754e211"
      },
      "execution_count": null,
      "outputs": [
        {
          "output_type": "execute_result",
          "data": {
            "text/plain": [
              "23848.71555115389"
            ]
          },
          "metadata": {},
          "execution_count": 155
        }
      ]
    },
    {
      "cell_type": "code",
      "source": [
        "mean_absolute_error(y_test, linear_model.predict(X_test))"
      ],
      "metadata": {
        "colab": {
          "base_uri": "https://localhost:8080/"
        },
        "id": "PneD3gb61Olb",
        "outputId": "dd2a3cce-8e6b-4940-a18a-3f1e629471e0"
      },
      "execution_count": null,
      "outputs": [
        {
          "output_type": "execute_result",
          "data": {
            "text/plain": [
              "23848.742280832463"
            ]
          },
          "metadata": {},
          "execution_count": 157
        }
      ]
    },
    {
      "cell_type": "markdown",
      "source": [
        "### RandomForestRegressor"
      ],
      "metadata": {
        "id": "whEGo1vm0xDd"
      }
    },
    {
      "cell_type": "code",
      "source": [
        "Forest_regressor = RandomForestRegressor(100, criterion=\"absolute_error\", max_depth=15)"
      ],
      "metadata": {
        "id": "cEsuLCG20wam"
      },
      "execution_count": null,
      "outputs": []
    },
    {
      "cell_type": "code",
      "source": [
        "for epoch in range(1):\n",
        "  Forest_regressor.fit(X_train, y_train)"
      ],
      "metadata": {
        "id": "heBGuVpL1qgS"
      },
      "execution_count": null,
      "outputs": []
    },
    {
      "cell_type": "code",
      "source": [
        "mean_absolute_error(y_test, Forest_regressor.predict(X_test))"
      ],
      "metadata": {
        "id": "8lfX4zQR1yb_"
      },
      "execution_count": null,
      "outputs": []
    },
    {
      "cell_type": "markdown",
      "source": [
        "### XGBoost"
      ],
      "metadata": {
        "id": "zcOoo-z4PPf9"
      }
    },
    {
      "cell_type": "code",
      "source": [
        "import xgboost as xgb"
      ],
      "metadata": {
        "id": "gGg9sshEPRxQ"
      },
      "execution_count": 28,
      "outputs": []
    },
    {
      "cell_type": "code",
      "source": [
        "xgb_r = xgb.XGBRegressor(objective ='reg:linear',\n",
        "                  n_estimators = 10, seed = 42)"
      ],
      "metadata": {
        "id": "eZjOJ8MSPcDF"
      },
      "execution_count": 29,
      "outputs": []
    },
    {
      "cell_type": "code",
      "source": [
        "xgb_r.fit(X_train, y_train)"
      ],
      "metadata": {
        "colab": {
          "base_uri": "https://localhost:8080/",
          "height": 265
        },
        "id": "C6yXZcqIQth9",
        "outputId": "88ed0f61-8c31-4e36-9761-3c631a9bac58"
      },
      "execution_count": 18,
      "outputs": [
        {
          "metadata": {
            "tags": null
          },
          "name": "stdout",
          "output_type": "stream",
          "text": [
            "[05:50:14] WARNING: ../src/objective/regression_obj.cu:213: reg:linear is now deprecated in favor of reg:squarederror.\n"
          ]
        },
        {
          "data": {
            "text/html": [
              "<style>#sk-container-id-1 {color: black;background-color: white;}#sk-container-id-1 pre{padding: 0;}#sk-container-id-1 div.sk-toggleable {background-color: white;}#sk-container-id-1 label.sk-toggleable__label {cursor: pointer;display: block;width: 100%;margin-bottom: 0;padding: 0.3em;box-sizing: border-box;text-align: center;}#sk-container-id-1 label.sk-toggleable__label-arrow:before {content: \"▸\";float: left;margin-right: 0.25em;color: #696969;}#sk-container-id-1 label.sk-toggleable__label-arrow:hover:before {color: black;}#sk-container-id-1 div.sk-estimator:hover label.sk-toggleable__label-arrow:before {color: black;}#sk-container-id-1 div.sk-toggleable__content {max-height: 0;max-width: 0;overflow: hidden;text-align: left;background-color: #f0f8ff;}#sk-container-id-1 div.sk-toggleable__content pre {margin: 0.2em;color: black;border-radius: 0.25em;background-color: #f0f8ff;}#sk-container-id-1 input.sk-toggleable__control:checked~div.sk-toggleable__content {max-height: 200px;max-width: 100%;overflow: auto;}#sk-container-id-1 input.sk-toggleable__control:checked~label.sk-toggleable__label-arrow:before {content: \"▾\";}#sk-container-id-1 div.sk-estimator input.sk-toggleable__control:checked~label.sk-toggleable__label {background-color: #d4ebff;}#sk-container-id-1 div.sk-label input.sk-toggleable__control:checked~label.sk-toggleable__label {background-color: #d4ebff;}#sk-container-id-1 input.sk-hidden--visually {border: 0;clip: rect(1px 1px 1px 1px);clip: rect(1px, 1px, 1px, 1px);height: 1px;margin: -1px;overflow: hidden;padding: 0;position: absolute;width: 1px;}#sk-container-id-1 div.sk-estimator {font-family: monospace;background-color: #f0f8ff;border: 1px dotted black;border-radius: 0.25em;box-sizing: border-box;margin-bottom: 0.5em;}#sk-container-id-1 div.sk-estimator:hover {background-color: #d4ebff;}#sk-container-id-1 div.sk-parallel-item::after {content: \"\";width: 100%;border-bottom: 1px solid gray;flex-grow: 1;}#sk-container-id-1 div.sk-label:hover label.sk-toggleable__label {background-color: #d4ebff;}#sk-container-id-1 div.sk-serial::before {content: \"\";position: absolute;border-left: 1px solid gray;box-sizing: border-box;top: 0;bottom: 0;left: 50%;z-index: 0;}#sk-container-id-1 div.sk-serial {display: flex;flex-direction: column;align-items: center;background-color: white;padding-right: 0.2em;padding-left: 0.2em;position: relative;}#sk-container-id-1 div.sk-item {position: relative;z-index: 1;}#sk-container-id-1 div.sk-parallel {display: flex;align-items: stretch;justify-content: center;background-color: white;position: relative;}#sk-container-id-1 div.sk-item::before, #sk-container-id-1 div.sk-parallel-item::before {content: \"\";position: absolute;border-left: 1px solid gray;box-sizing: border-box;top: 0;bottom: 0;left: 50%;z-index: -1;}#sk-container-id-1 div.sk-parallel-item {display: flex;flex-direction: column;z-index: 1;position: relative;background-color: white;}#sk-container-id-1 div.sk-parallel-item:first-child::after {align-self: flex-end;width: 50%;}#sk-container-id-1 div.sk-parallel-item:last-child::after {align-self: flex-start;width: 50%;}#sk-container-id-1 div.sk-parallel-item:only-child::after {width: 0;}#sk-container-id-1 div.sk-dashed-wrapped {border: 1px dashed gray;margin: 0 0.4em 0.5em 0.4em;box-sizing: border-box;padding-bottom: 0.4em;background-color: white;}#sk-container-id-1 div.sk-label label {font-family: monospace;font-weight: bold;display: inline-block;line-height: 1.2em;}#sk-container-id-1 div.sk-label-container {text-align: center;}#sk-container-id-1 div.sk-container {/* jupyter's `normalize.less` sets `[hidden] { display: none; }` but bootstrap.min.css set `[hidden] { display: none !important; }` so we also need the `!important` here to be able to override the default hidden behavior on the sphinx rendered scikit-learn.org. See: https://github.com/scikit-learn/scikit-learn/issues/21755 */display: inline-block !important;position: relative;}#sk-container-id-1 div.sk-text-repr-fallback {display: none;}</style><div id=\"sk-container-id-1\" class=\"sk-top-container\"><div class=\"sk-text-repr-fallback\"><pre>XGBRegressor(base_score=None, booster=None, callbacks=None,\n",
              "             colsample_bylevel=None, colsample_bynode=None,\n",
              "             colsample_bytree=None, early_stopping_rounds=None,\n",
              "             enable_categorical=False, eval_metric=None, feature_types=None,\n",
              "             gamma=None, gpu_id=None, grow_policy=None, importance_type=None,\n",
              "             interaction_constraints=None, learning_rate=None, max_bin=None,\n",
              "             max_cat_threshold=None, max_cat_to_onehot=None,\n",
              "             max_delta_step=None, max_depth=None, max_leaves=None,\n",
              "             min_child_weight=None, missing=nan, monotone_constraints=None,\n",
              "             n_estimators=100, n_jobs=None, num_parallel_tree=None,\n",
              "             objective=&#x27;reg:linear&#x27;, predictor=None, ...)</pre><b>In a Jupyter environment, please rerun this cell to show the HTML representation or trust the notebook. <br />On GitHub, the HTML representation is unable to render, please try loading this page with nbviewer.org.</b></div><div class=\"sk-container\" hidden><div class=\"sk-item\"><div class=\"sk-estimator sk-toggleable\"><input class=\"sk-toggleable__control sk-hidden--visually\" id=\"sk-estimator-id-1\" type=\"checkbox\" checked><label for=\"sk-estimator-id-1\" class=\"sk-toggleable__label sk-toggleable__label-arrow\">XGBRegressor</label><div class=\"sk-toggleable__content\"><pre>XGBRegressor(base_score=None, booster=None, callbacks=None,\n",
              "             colsample_bylevel=None, colsample_bynode=None,\n",
              "             colsample_bytree=None, early_stopping_rounds=None,\n",
              "             enable_categorical=False, eval_metric=None, feature_types=None,\n",
              "             gamma=None, gpu_id=None, grow_policy=None, importance_type=None,\n",
              "             interaction_constraints=None, learning_rate=None, max_bin=None,\n",
              "             max_cat_threshold=None, max_cat_to_onehot=None,\n",
              "             max_delta_step=None, max_depth=None, max_leaves=None,\n",
              "             min_child_weight=None, missing=nan, monotone_constraints=None,\n",
              "             n_estimators=100, n_jobs=None, num_parallel_tree=None,\n",
              "             objective=&#x27;reg:linear&#x27;, predictor=None, ...)</pre></div></div></div></div></div>"
            ],
            "text/plain": [
              "XGBRegressor(base_score=None, booster=None, callbacks=None,\n",
              "             colsample_bylevel=None, colsample_bynode=None,\n",
              "             colsample_bytree=None, early_stopping_rounds=None,\n",
              "             enable_categorical=False, eval_metric=None, feature_types=None,\n",
              "             gamma=None, gpu_id=None, grow_policy=None, importance_type=None,\n",
              "             interaction_constraints=None, learning_rate=None, max_bin=None,\n",
              "             max_cat_threshold=None, max_cat_to_onehot=None,\n",
              "             max_delta_step=None, max_depth=None, max_leaves=None,\n",
              "             min_child_weight=None, missing=nan, monotone_constraints=None,\n",
              "             n_estimators=100, n_jobs=None, num_parallel_tree=None,\n",
              "             objective='reg:linear', predictor=None, ...)"
            ]
          },
          "execution_count": 18,
          "metadata": {},
          "output_type": "execute_result"
        }
      ]
    },
    {
      "cell_type": "code",
      "source": [
        "mean_absolute_error(y_test, xgb_r.predict(X_test))"
      ],
      "metadata": {
        "colab": {
          "base_uri": "https://localhost:8080/"
        },
        "id": "ytPJ5_PgQx-c",
        "outputId": "16c1830c-f80a-43a6-b614-1a5c19568473"
      },
      "execution_count": 19,
      "outputs": [
        {
          "data": {
            "text/plain": [
              "20146.426607667923"
            ]
          },
          "execution_count": 19,
          "metadata": {},
          "output_type": "execute_result"
        }
      ]
    },
    {
      "cell_type": "markdown",
      "source": [
        "### Вторая теория (Усредним значения)"
      ],
      "metadata": {
        "id": "K1_vzqZ6MR01"
      }
    },
    {
      "cell_type": "code",
      "source": [
        "def make_data(data):\n",
        "  for j in range(0, data.shape[0], 19):\n",
        "    NotNullElement  = False\n",
        "    posNotNullElement = 0\n",
        "    for i in range(j+18, j-1, -1):\n",
        "      if (data['milleage_all'][i] and not NotNullElement):\n",
        "        NotNullElement = True\n",
        "        posNotNullElement = i\n",
        "      if (data['milleage_all'][i]):\n",
        "        data['answer'][i] = data_target['target'][j//19] +  data['milleage_all'][posNotNullElement] - data['milleage_all'][i]"
      ],
      "metadata": {
        "id": "2jG_gjsJMQsP"
      },
      "execution_count": null,
      "outputs": []
    }
  ]
}